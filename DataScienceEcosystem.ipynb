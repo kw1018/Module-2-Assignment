{
 "cells": [
  {
   "cell_type": "markdown",
   "id": "a10eacdb-e327-4b03-bf1c-cd337a17a65b",
   "metadata": {},
   "source": [
    "in this notebook, Data Science Tools and Ecosystem are summarized."
   ]
  },
  {
   "cell_type": "markdown",
   "id": "2196d078-7412-4d5f-83b7-a68f662d6f89",
   "metadata": {
    "tags": []
   },
   "source": [
    "Objectives:\n",
    "\n",
    "    • List popular programming languages fro data science \n",
    "    • Understand how and why we use Github\n",
    "    • Have a basic understanding of the R programming language and its uses "
   ]
  },
  {
   "cell_type": "markdown",
   "id": "d47670b4-96f0-49ed-888f-9969ced0e6f1",
   "metadata": {},
   "source": [
    "Some of the popular languages that Data Scientists use are:\n",
    "\n",
    "1. Python\n",
    "2. R\n",
    "3. SQL"
   ]
  },
  {
   "cell_type": "markdown",
   "id": "bd42ff64-5068-4915-ad86-11ae720b7e7d",
   "metadata": {
    "jp-MarkdownHeadingCollapsed": true,
    "tags": []
   },
   "source": [
    "|Data science Tools|\n",
    "---\n",
    "|Apache spark|\n",
    "|TensorFlow|\n",
    "|Hadoop|\n",
    "\n",
    "\n",
    "\n",
    "\n"
   ]
  },
  {
   "cell_type": "markdown",
   "id": "0d0b2b3c-4873-4c27-89f2-745b6121a113",
   "metadata": {},
   "source": [
    "### Below are a few examples of evaluating arithmetic expressions in Python:\n",
    "\n",
    "x = 1\n",
    "y = 2\n",
    "x + y = 3 "
   ]
  },
  {
   "cell_type": "code",
   "execution_count": 1,
   "id": "bd82f09f-0804-454b-be14-7b750a28697e",
   "metadata": {},
   "outputs": [
    {
     "data": {
      "text/plain": [
       "17"
      ]
     },
     "execution_count": 1,
     "metadata": {},
     "output_type": "execute_result"
    }
   ],
   "source": [
    "(3*4)+5\n",
    "\n",
    "#This a simple arithmetic expression to mutiply then add integers"
   ]
  },
  {
   "cell_type": "code",
   "execution_count": 3,
   "id": "0b629cfa-e823-427c-9bc8-626c7373182d",
   "metadata": {},
   "outputs": [
    {
     "name": "stdout",
     "output_type": "stream",
     "text": [
      "3.3333333333333335\n"
     ]
    }
   ],
   "source": [
    "#This will convert 200 minutes to hours by diving by 60\n",
    "min = 200\n",
    "hrs = min / 60\n",
    "print(hrs)"
   ]
  },
  {
   "cell_type": "markdown",
   "id": "92387c8d-8e02-49fc-8a40-89f3377ddfe4",
   "metadata": {},
   "source": [
    "## Authour \n",
    "\n",
    "Kit "
   ]
  },
  {
   "cell_type": "code",
   "execution_count": null,
   "id": "f593775d-7a56-4022-bf4a-6cfd2b184f10",
   "metadata": {},
   "outputs": [],
   "source": []
  }
 ],
 "metadata": {
  "kernelspec": {
   "display_name": "Python 3 (ipykernel)",
   "language": "python",
   "name": "python3"
  },
  "language_info": {
   "codemirror_mode": {
    "name": "ipython",
    "version": 3
   },
   "file_extension": ".py",
   "mimetype": "text/x-python",
   "name": "python",
   "nbconvert_exporter": "python",
   "pygments_lexer": "ipython3",
   "version": "3.10.9"
  }
 },
 "nbformat": 4,
 "nbformat_minor": 5
}
